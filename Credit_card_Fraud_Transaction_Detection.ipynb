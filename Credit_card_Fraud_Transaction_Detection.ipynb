{
 "cells": [
  {
   "cell_type": "code",
   "execution_count": 1,
   "id": "690d2cab",
   "metadata": {},
   "outputs": [],
   "source": [
    "''' I HAVE TRIED CLASSFICATION MODELS LIKE K-NN(ACCURACY=99.59%),NIAVE BAYES CLASSIFIER(ACCURACY=99.61%), DECISION TREE CLASSIFIER(ACCURACY=99.62%)\n",
    "LOGISTIC REGRESSION (ACCURACY=99.61%) BUT RANDOM FOREST CLASSIFIER IS ACCURATE TO 99.73% '''\n",
    "#NOTE THE TRAINING AND TESTING DATASETS CONTAINS HUGE NUMBER OF ENTRIES SO THE CLASSIFICATION MODEL MAY TAKE TIME TO RUN(5-10 MINS) DEPENDING ON YOUR COMPUTER\n",
    "\n",
    "\n",
    "\n",
    "\n",
    "\n",
    "\n",
    "#IMPORTING THE REQUIRED LIBRARIES\n",
    "import numpy as np\n",
    "import matplotlib.pyplot as plt\n",
    "import pandas as pd\n",
    "import random\n",
    "#importing the dataset\n",
    "dataset=pd.read_csv(\"fraudTrain.csv\")\n",
    "#DELETING THE UNWANTED COLUMNS\n",
    "x = dataset.iloc[:,0:-1].values\n",
    "columns_to_remove = [0,1, 9,11,13,14,17,18,19] #first col,date and time,street,state,lat,long,dob,trans_num,unix_time\n",
    "x = np.delete(x, columns_to_remove, axis=1)\n",
    "y=dataset.iloc[:,-1:].values\n"
   ]
  },
  {
   "cell_type": "code",
   "execution_count": 2,
   "id": "53823b4f",
   "metadata": {},
   "outputs": [],
   "source": [
    "#ONE HOT ENCODING THE GENDER COLUMN\n",
    "from sklearn.compose import ColumnTransformer\n",
    "from sklearn.preprocessing import OneHotEncoder\n",
    "ct=ColumnTransformer(transformers=[('encoder',OneHotEncoder(),[6])],remainder=\"passthrough\")\n",
    "x=np.array(ct.fit_transform(x))"
   ]
  },
  {
   "cell_type": "code",
   "execution_count": 3,
   "id": "d42f3b16",
   "metadata": {},
   "outputs": [],
   "source": [
    "#COPYINH THE VALUES OF MERCHANT COLUMN INTO merc_arr THEN COPYING  THE UNIQUE VALUES OF merc_arr INTO uniques_merchant \n",
    "#THEN CREATING A DICTIONARY encoded_merchant_dict TO STORE KEY-VALUE PAIRS OF UNIQUE VALUES FROM THE uniques_merchant AND ASSIGNING THE INDICES AS THEIR VALUES\n",
    "merc_arr = x[:, 3].copy()\n",
    "uniques_merchant = np.unique(merc_arr)\n",
    "encoded_merchant_dict={}\n",
    "for i in range(0,len(uniques_merchant)):\n",
    "    encoded_merchant_dict[uniques_merchant[i]]=i\n",
    "#encoding the merchant column values from dictionary\n",
    "for row in x:\n",
    "    merchant_value = row[3]  \n",
    "    encoded_value = encoded_merchant_dict.get(merchant_value)\n",
    "    if encoded_value is not None:\n",
    "        row[3] = encoded_value\n",
    "        \n",
    "#ENCODING THE CATEGORY COLUMN SIMILARLY\n",
    "category_arr=x[:,4].copy()\n",
    "uniques_category=np.unique(category_arr)\n",
    "encoded_category_dict={}\n",
    "for i in range(0,len(uniques_category)):\n",
    "    encoded_category_dict[uniques_category[i]]=i\n",
    "\n",
    "for row in x:\n",
    "    category_value=row[4]\n",
    "    encoded_value=encoded_category_dict.get(category_value)\n",
    "    if encoded_value is not None:\n",
    "        row[4]=encoded_value\n",
    "#COPYING THE NAMES AS FIRST_NAME AND LAST_NAME THEN CONCATING THEM INTO A LIST OF NAMES THEN DELETING THE FIRST_NAME,LAST_NAME\n",
    "#FROM X AND INSERTING A COLUMN CALLED FULL NAMES INTO IT AND ENCODING IT SIMILARLY\n",
    "\n",
    "first_name=list(x[:,6].copy())\n",
    "last_name=list(x[:,7].copy())\n",
    "names=[]\n",
    "for i in range(0,len(first_name)):\n",
    "    names.append(first_name[i]+\" \"+last_name[i])\n",
    "uniques_names= list(set(names))\n",
    "x = np.delete(x, [6, 7], axis=1)\n",
    "new_column = names\n",
    "insert_index = 6  \n",
    "x = np.insert(x, insert_index, new_column, axis=1)\n",
    "encoded_names_dict={}\n",
    "for i in range(0,len(uniques_names)):\n",
    "    encoded_names_dict[uniques_names[i]]=i\n",
    "\n",
    "for row in x:\n",
    "    name_value=row[6]\n",
    "    encoded_value=encoded_names_dict.get(name_value)\n",
    "    if encoded_value is not None:\n",
    "        row[6]=encoded_value\n",
    "\n",
    "#ENCODING THE CITY COLUMN\n",
    "city_arr=x[:,7].copy()\n",
    "uniques_city=np.unique(city_arr)\n",
    "encoded_city_dict={}\n",
    "for i in range(0,len(uniques_city)):\n",
    "    encoded_city_dict[uniques_city[i]]=i\n",
    "\n",
    "for row in x:\n",
    "    city_value=row[7]\n",
    "    encoded_value=encoded_city_dict.get(city_value)\n",
    "    if encoded_value is not None:\n",
    "        row[7]=encoded_value\n",
    "#SIMILARLY ENCODING THE  JOB COLUMN\n",
    "job_arr=x[:,10].copy()\n",
    "uniques_job=np.unique(job_arr)\n",
    "encoded_job_dict={}\n",
    "for i in range(0,len(uniques_job)):\n",
    "    encoded_job_dict[uniques_job[i]]=i\n",
    "\n",
    "for row in x:\n",
    "    job_value=row[10]\n",
    "    encoded_value=encoded_job_dict.get(job_value)\n",
    "    if encoded_value is not None:\n",
    "        row[10]=encoded_value\n",
    "    "
   ]
  },
  {
   "cell_type": "code",
   "execution_count": 4,
   "id": "00a49d33",
   "metadata": {},
   "outputs": [],
   "source": [
    "#NOW TRANSFORMING THE TEST SET \n",
    "test_dataset = pd.read_csv(\"fraudTest.csv\")\n",
    "x_test= test_dataset.iloc[:,0:-1].values\n",
    "columns_to_remove = [0,1, 9,11,13,14,17,18,19] #first col,date and time,street,state,lat,long,dob,trans_num,unix_time\n",
    "x_test= np.delete(x_test, columns_to_remove, axis=1)\n",
    "y_test=test_dataset.iloc[:,-1:].values\n",
    "#one hot encoding the gender column\n",
    "ct=ColumnTransformer(transformers=[('encoder',OneHotEncoder(),[6])],remainder=\"passthrough\")\n",
    "x_test=np.array(ct.fit_transform(x_test))\n",
    "\n",
    "#encoding the merchant column values from dictionary\n",
    "for row in x_test:\n",
    "    merchant_value = row[3]  \n",
    "    encoded_value = encoded_merchant_dict.get(merchant_value)\n",
    "    if encoded_value is not None:\n",
    "        row[3] = encoded_value\n",
    "    else:\n",
    "        row[3]=random.randint(0,700)\n",
    "#ENCODING THE CATEGORY COLUMN SIMILARLY\n",
    "\n",
    "for row in x_test:\n",
    "    category_value=row[4]\n",
    "    encoded_value=encoded_category_dict.get(category_value)\n",
    "    if encoded_value is not None:\n",
    "        row[4]=encoded_value\n",
    "    else:\n",
    "        row[4]=random.randint(0,15)\n",
    "#COPYING THE NAMES AS FIRST_NAME AND LAST_NAME THEN CONCATING THEM INTO A LIST OF NAMES THEN DELETING THE FIRST_NAME,LAST_NAME\n",
    "#FROM X AND INSERTING A COLUMN CALLED FULL NAMES INTO IT AND ENCODING IT SIMILARLY\n",
    "\n",
    "first_name=list(x_test[:,6].copy())\n",
    "last_name=list(x_test[:,7].copy())\n",
    "names=[]\n",
    "for i in range(0,len(first_name)):\n",
    "    names.append(first_name[i]+\" \"+last_name[i])\n",
    "x_test = np.delete(x_test, [6, 7], axis=1)\n",
    "new_column = names\n",
    "insert_index = 6  \n",
    "x_test= np.insert(x_test, insert_index, new_column, axis=1)\n",
    "\n",
    "for row in x_test:\n",
    "    name_value=row[6]\n",
    "    encoded_value=encoded_names_dict.get(name_value)\n",
    "    if encoded_value is not None:\n",
    "        row[6]=encoded_value\n",
    "    else:\n",
    "        row[6]=random.randint(0,955)\n",
    "\n",
    "#ENCODING THE CITY COLUMN\n",
    "for row in x_test:\n",
    "    city_value=row[7]\n",
    "    encoded_value=encoded_city_dict.get(city_value)\n",
    "    if encoded_value is not None:\n",
    "        row[7]=encoded_value\n",
    "    else:\n",
    "        row[7]=random.randint(0,900)\n",
    "#SIMILARLY ENCODING THE  JOB COLUMN\n",
    "\n",
    "for row in x_test:\n",
    "    job_value=row[10]\n",
    "    encoded_value=encoded_job_dict.get(job_value)\n",
    "    if encoded_value is not None:\n",
    "        row[10]=encoded_value\n",
    "    else:\n",
    "        row[10]=random.randint(0,492)\n",
    "    "
   ]
  },
  {
   "cell_type": "code",
   "execution_count": 5,
   "id": "d516ebc5",
   "metadata": {},
   "outputs": [
    {
     "name": "stdout",
     "output_type": "stream",
     "text": [
      "[1.0 0.0 2703190000000000.0 514 8 4.97 782 517 28654 3495 370 36.011293\n",
      " -82.048315]\n",
      "[[0]\n",
      " [0]\n",
      " [0]\n",
      " ...\n",
      " [0]\n",
      " [0]\n",
      " [0]]\n"
     ]
    }
   ],
   "source": [
    "#PRINTING FIRST ROW OF X,AND THE WHOLE Y ARRAY\n",
    "print(x[0])\n",
    "print(y)\n"
   ]
  },
  {
   "cell_type": "code",
   "execution_count": 6,
   "id": "10b691a1",
   "metadata": {},
   "outputs": [
    {
     "name": "stdout",
     "output_type": "stream",
     "text": [
      "[0.0 1.0 2291160000000000.0 319 10 2.86 27 164 29209 333497 287 33.986391\n",
      " -81.200714]\n",
      "[[0]\n",
      " [0]\n",
      " [0]\n",
      " ...\n",
      " [0]\n",
      " [0]\n",
      " [0]]\n"
     ]
    }
   ],
   "source": [
    "#PRINTING FIRST ROW OF X_TEST AND WHOLE OF Y_TEST ARRAY\n",
    "print(x_test[0])\n",
    "print(y_test)"
   ]
  },
  {
   "cell_type": "markdown",
   "id": "ffa9bde4",
   "metadata": {},
   "source": [
    "TRAINING RANDOM FOREST CLASSIFIER\n"
   ]
  },
  {
   "cell_type": "code",
   "execution_count": 7,
   "id": "6bd129bb",
   "metadata": {},
   "outputs": [
    {
     "name": "stderr",
     "output_type": "stream",
     "text": [
      "C:\\Users\\rohan\\.conda\\lib\\site-packages\\sklearn\\base.py:1151: DataConversionWarning: A column-vector y was passed when a 1d array was expected. Please change the shape of y to (n_samples,), for example using ravel().\n",
      "  return fit_method(estimator, *args, **kwargs)\n"
     ]
    },
    {
     "data": {
      "text/plain": [
       "0.9973781713419911"
      ]
     },
     "execution_count": 7,
     "metadata": {},
     "output_type": "execute_result"
    }
   ],
   "source": [
    "from sklearn.ensemble import RandomForestClassifier\n",
    "classifier=RandomForestClassifier(n_estimators=55,criterion=\"entropy\",random_state=0)\n",
    "classifier.fit(x,y)\n",
    "y_pred=classifier.predict(x_test)\n",
    "#printing the accuracy score\n",
    "from sklearn.metrics import accuracy_score\n",
    "accuracy=accuracy_score(y_pred,y_test)\n",
    "accuracy"
   ]
  },
  {
   "cell_type": "code",
   "execution_count": null,
   "id": "1579e0c4",
   "metadata": {},
   "outputs": [],
   "source": []
  }
 ],
 "metadata": {
  "kernelspec": {
   "display_name": "Python 3 (ipykernel)",
   "language": "python",
   "name": "python3"
  },
  "language_info": {
   "codemirror_mode": {
    "name": "ipython",
    "version": 3
   },
   "file_extension": ".py",
   "mimetype": "text/x-python",
   "name": "python",
   "nbconvert_exporter": "python",
   "pygments_lexer": "ipython3",
   "version": "3.9.18"
  }
 },
 "nbformat": 4,
 "nbformat_minor": 5
}
